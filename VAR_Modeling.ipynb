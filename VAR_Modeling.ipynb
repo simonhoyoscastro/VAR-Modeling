{
  "nbformat": 4,
  "nbformat_minor": 0,
  "metadata": {
    "colab": {
      "provenance": []
    },
    "kernelspec": {
      "name": "python3",
      "display_name": "Python 3"
    },
    "language_info": {
      "name": "python"
    }
  },
  "cells": [
    {
      "cell_type": "markdown",
      "source": [
        "# Exploring Bicausality in Commodity and Currency Markets: A VAR Modeling Approach\n",
        "\n",
        "Project by **Simon Hoyos Castro**"
      ],
      "metadata": {
        "id": "yyQU8yoaaCos"
      }
    },
    {
      "cell_type": "markdown",
      "source": [
        "Econometrics plays a crucial role­ in comprehending the intricate­ relationship betwee­n commodities and currencies within the­ global financial markets. The volatility and price move­ments observed in the­se markets are ofte­n intertwined, leading to re­ciprocal causality connections. This project aims to explore­ these connections through the­ utilization of Vector Autoregression (VAR) mode­ling.\n",
        "\n",
        "\n",
        "The primary objective of this project is to analyze the bicausality between commodities and currencies, focusing on their dynamic interactions. By employing the VAR model, we seek to identify and quantify the feedback mechanisms, impulse responses, and long-term relationships between these asset classes."
      ],
      "metadata": {
        "id": "dPpccIoJaujk"
      }
    },
    {
      "cell_type": "code",
      "execution_count": null,
      "metadata": {
        "id": "foPlM6ldu_VE"
      },
      "outputs": [],
      "source": [
        "# Import the libraries\n",
        "import numpy as np\n",
        "import matplotlib.pyplot as plt\n",
        "import pandas as pd\n",
        "import seaborn as sns\n",
        "import statsmodels.api as sm\n",
        "import yfinance as yf\n",
        "from statsmodels.tsa.stattools import grangercausalitytests as granger\n",
        "from statsmodels.tsa.api import VAR\n",
        "from statsmodels.graphics.tsaplots import plot_acf\n",
        "from statsmodels.stats.stattools import durbin_watson"
      ]
    },
    {
      "cell_type": "code",
      "source": [
        "# Graph design\n",
        "plt.style.use('dark_background')"
      ],
      "metadata": {
        "id": "Qr_pHv3ucc6E"
      },
      "execution_count": null,
      "outputs": []
    },
    {
      "cell_type": "markdown",
      "source": [
        "## 1. Data Extraction and Preparation"
      ],
      "metadata": {
        "id": "0fHnKFG4cksp"
      }
    },
    {
      "cell_type": "markdown",
      "source": [
        "We will start by extracting the data for 5 financial assets, including the following:\n",
        "\n",
        "* Gold Futures\n",
        "* Crude Oil Futures\n",
        "* Silver Futures\n",
        "* Current exchange rate for the Euro (EUR) to US Dollar (USD).\n",
        "* Current exchange rate for the Canadian Dollar (CAD) to US Dollar (USD).\n"
      ],
      "metadata": {
        "id": "4W57HsO5cpqJ"
      }
    },
    {
      "cell_type": "code",
      "source": [
        "# Download the data from Yahoo Finance\n",
        "assets = ['GC=F','CL=F','SI=F','EURUSD=X','CADUSD=X']\n",
        "df = yf.download(assets,start='2015-01-01',end='2023-01-01')['Close']\n",
        "df.info()"
      ],
      "metadata": {
        "colab": {
          "base_uri": "https://localhost:8080/"
        },
        "id": "9niUMHcr19Wy",
        "outputId": "41138892-f68f-4450-d761-6b0805517719"
      },
      "execution_count": null,
      "outputs": [
        {
          "output_type": "stream",
          "name": "stdout",
          "text": [
            "[*********************100%%**********************]  5 of 5 completed\n",
            "<class 'pandas.core.frame.DataFrame'>\n",
            "DatetimeIndex: 2087 entries, 2015-01-01 to 2022-12-30\n",
            "Freq: B\n",
            "Data columns (total 5 columns):\n",
            " #   Column    Non-Null Count  Dtype  \n",
            "---  ------    --------------  -----  \n",
            " 0   CADUSD=X  2084 non-null   float64\n",
            " 1   CL=F      2012 non-null   float64\n",
            " 2   EURUSD=X  2084 non-null   float64\n",
            " 3   GC=F      2011 non-null   float64\n",
            " 4   SI=F      2011 non-null   float64\n",
            "dtypes: float64(5)\n",
            "memory usage: 97.8 KB\n"
          ]
        }
      ]
    },
    {
      "cell_type": "markdown",
      "source": [
        "Since econometric models work best in high periodicity timeframes, we need to resample the data to a weekly timeframe."
      ],
      "metadata": {
        "id": "_fEfX8QUeckz"
      }
    },
    {
      "cell_type": "code",
      "source": [
        "# Resample the data\n",
        "df=df.resample('W').last()\n",
        "df.info()"
      ],
      "metadata": {
        "colab": {
          "base_uri": "https://localhost:8080/"
        },
        "id": "RQO1tcqW3G2d",
        "outputId": "c6dbe621-0fb9-45ff-b605-b71ec79b2d8e"
      },
      "execution_count": null,
      "outputs": [
        {
          "output_type": "stream",
          "name": "stdout",
          "text": [
            "<class 'pandas.core.frame.DataFrame'>\n",
            "DatetimeIndex: 418 entries, 2015-01-04 to 2023-01-01\n",
            "Freq: W-SUN\n",
            "Data columns (total 5 columns):\n",
            " #   Column    Non-Null Count  Dtype  \n",
            "---  ------    --------------  -----  \n",
            " 0   CADUSD=X  418 non-null    float64\n",
            " 1   CL=F      418 non-null    float64\n",
            " 2   EURUSD=X  418 non-null    float64\n",
            " 3   GC=F      418 non-null    float64\n",
            " 4   SI=F      418 non-null    float64\n",
            "dtypes: float64(5)\n",
            "memory usage: 19.6 KB\n"
          ]
        }
      ]
    },
    {
      "cell_type": "markdown",
      "source": [
        "We calculate the log returns of the assets to ensure that we have stationary processes."
      ],
      "metadata": {
        "id": "z8y_74qRe83A"
      }
    },
    {
      "cell_type": "code",
      "source": [
        "df=np.log(df).diff().dropna()"
      ],
      "metadata": {
        "id": "_gY4nZLP5ffq"
      },
      "execution_count": null,
      "outputs": []
    },
    {
      "cell_type": "markdown",
      "source": [
        "## 2. Correlation Analysis"
      ],
      "metadata": {
        "id": "15Yl8iVWfcVv"
      }
    },
    {
      "cell_type": "markdown",
      "source": [
        "The initial step in analyzing price changes in these financial assets is to examine the correlation between their returns."
      ],
      "metadata": {
        "id": "GxwQaQT4izs2"
      }
    },
    {
      "cell_type": "code",
      "source": [
        "# Build a heatmap to show a correlation matrix\n",
        "fig, axes = plt.subplots(figsize=(8,8))\n",
        "sns.heatmap(df.corr(),annot=True,cmap='Blues');"
      ],
      "metadata": {
        "colab": {
          "base_uri": "https://localhost:8080/",
          "height": 682
        },
        "id": "C0Uau65EzyOS",
        "outputId": "ec733ee2-66b2-4018-8dd8-a4c77e62bb4a"
      },
      "execution_count": null,
      "outputs": [
        {
          "output_type": "display_data",
          "data": {
            "text/plain": [
              "<Figure size 800x800 with 2 Axes>"
            ],
            "image/png": "[encoded data removed]"
          },
          "metadata": {}
        }
      ]
    },
    {
      "cell_type": "markdown",
      "source": [
        "There is no a high correlation between most of the assets. The only ones that present a high correlation are gold `GC=F` and silver `SI=F`."
      ],
      "metadata": {
        "id": "Knl9X8nUjd-k"
      }
    },
    {
      "cell_type": "markdown",
      "source": [
        "## 3. Causality Analysis"
      ],
      "metadata": {
        "id": "MmvjgJ88kI1V"
      }
    },
    {
      "cell_type": "markdown",
      "source": [
        "Now, we will analyze the causality between these timeseries. For this, we will use the grangers causality test. The grangercausalitytest function tests the hypothesis that the second column provided to the function does NOT CAUSE the first column."
      ],
      "metadata": {
        "id": "mI6ZtqzO9eD2"
      }
    },
    {
      "cell_type": "code",
      "source": [
        "# Function to create a causality matrix\n",
        "def grangers(data, variables, test='ssr_ftest',lags=12):\n",
        "\n",
        "    df = pd.DataFrame(np.zeros((len(variables), len(variables))), columns=variables, index=variables)\n",
        "    for c in df.columns:\n",
        "        for r in df.index:\n",
        "            test_result = granger(data[[r, c]], maxlag=lags,verbose=False)\n",
        "            p_values = [round(test_result[i+1][0][test][1],4) for i in range(lags)]\n",
        "            min_p_value = np.min(p_values)\n",
        "            df.loc[r, c] = min_p_value\n",
        "    df.columns = [var + '_x' for var in variables]\n",
        "    df.index = [var + '_y' for var in variables]\n",
        "    return df"
      ],
      "metadata": {
        "id": "CpnaK7U80GNS"
      },
      "execution_count": null,
      "outputs": []
    },
    {
      "cell_type": "code",
      "source": [
        "# Create the causality matrix using the function\n",
        "variables = list(df)\n",
        "p_val_matrix = grangers(df,variables)"
      ],
      "metadata": {
        "colab": {
          "base_uri": "https://localhost:8080/"
        },
        "id": "TdlMYmHi0H77",
        "outputId": "30adac82-0dea-4dd8-c681-8b2230e3800f"
      },
      "execution_count": null,
      "outputs": [
        {
          "output_type": "stream",
          "name": "stderr",
          "text": [
            "/usr/local/lib/python3.10/dist-packages/statsmodels/tsa/stattools.py:1488: FutureWarning: verbose is deprecated since functions should not print results\n",
            "  warnings.warn(\n",
            "/usr/local/lib/python3.10/dist-packages/statsmodels/tsa/stattools.py:1488: FutureWarning: verbose is deprecated since functions should not print results\n",
            "  warnings.warn(\n",
            "/usr/local/lib/python3.10/dist-packages/statsmodels/tsa/stattools.py:1488: FutureWarning: verbose is deprecated since functions should not print results\n",
            "  warnings.warn(\n",
            "/usr/local/lib/python3.10/dist-packages/statsmodels/tsa/stattools.py:1488: FutureWarning: verbose is deprecated since functions should not print results\n",
            "  warnings.warn(\n",
            "/usr/local/lib/python3.10/dist-packages/statsmodels/tsa/stattools.py:1488: FutureWarning: verbose is deprecated since functions should not print results\n",
            "  warnings.warn(\n",
            "/usr/local/lib/python3.10/dist-packages/statsmodels/tsa/stattools.py:1488: FutureWarning: verbose is deprecated since functions should not print results\n",
            "  warnings.warn(\n",
            "/usr/local/lib/python3.10/dist-packages/statsmodels/tsa/stattools.py:1488: FutureWarning: verbose is deprecated since functions should not print results\n",
            "  warnings.warn(\n",
            "/usr/local/lib/python3.10/dist-packages/statsmodels/tsa/stattools.py:1488: FutureWarning: verbose is deprecated since functions should not print results\n",
            "  warnings.warn(\n",
            "/usr/local/lib/python3.10/dist-packages/statsmodels/tsa/stattools.py:1488: FutureWarning: verbose is deprecated since functions should not print results\n",
            "  warnings.warn(\n",
            "/usr/local/lib/python3.10/dist-packages/statsmodels/tsa/stattools.py:1488: FutureWarning: verbose is deprecated since functions should not print results\n",
            "  warnings.warn(\n",
            "/usr/local/lib/python3.10/dist-packages/statsmodels/tsa/stattools.py:1488: FutureWarning: verbose is deprecated since functions should not print results\n",
            "  warnings.warn(\n",
            "/usr/local/lib/python3.10/dist-packages/statsmodels/tsa/stattools.py:1488: FutureWarning: verbose is deprecated since functions should not print results\n",
            "  warnings.warn(\n",
            "/usr/local/lib/python3.10/dist-packages/statsmodels/tsa/stattools.py:1488: FutureWarning: verbose is deprecated since functions should not print results\n",
            "  warnings.warn(\n",
            "/usr/local/lib/python3.10/dist-packages/statsmodels/tsa/stattools.py:1488: FutureWarning: verbose is deprecated since functions should not print results\n",
            "  warnings.warn(\n",
            "/usr/local/lib/python3.10/dist-packages/statsmodels/tsa/stattools.py:1488: FutureWarning: verbose is deprecated since functions should not print results\n",
            "  warnings.warn(\n",
            "/usr/local/lib/python3.10/dist-packages/statsmodels/tsa/stattools.py:1488: FutureWarning: verbose is deprecated since functions should not print results\n",
            "  warnings.warn(\n",
            "/usr/local/lib/python3.10/dist-packages/statsmodels/tsa/stattools.py:1488: FutureWarning: verbose is deprecated since functions should not print results\n",
            "  warnings.warn(\n",
            "/usr/local/lib/python3.10/dist-packages/statsmodels/tsa/stattools.py:1488: FutureWarning: verbose is deprecated since functions should not print results\n",
            "  warnings.warn(\n",
            "/usr/local/lib/python3.10/dist-packages/statsmodels/tsa/stattools.py:1488: FutureWarning: verbose is deprecated since functions should not print results\n",
            "  warnings.warn(\n",
            "/usr/local/lib/python3.10/dist-packages/statsmodels/tsa/stattools.py:1488: FutureWarning: verbose is deprecated since functions should not print results\n",
            "  warnings.warn(\n",
            "/usr/local/lib/python3.10/dist-packages/statsmodels/tsa/stattools.py:1488: FutureWarning: verbose is deprecated since functions should not print results\n",
            "  warnings.warn(\n",
            "/usr/local/lib/python3.10/dist-packages/statsmodels/tsa/stattools.py:1488: FutureWarning: verbose is deprecated since functions should not print results\n",
            "  warnings.warn(\n",
            "/usr/local/lib/python3.10/dist-packages/statsmodels/tsa/stattools.py:1488: FutureWarning: verbose is deprecated since functions should not print results\n",
            "  warnings.warn(\n",
            "/usr/local/lib/python3.10/dist-packages/statsmodels/tsa/stattools.py:1488: FutureWarning: verbose is deprecated since functions should not print results\n",
            "  warnings.warn(\n",
            "/usr/local/lib/python3.10/dist-packages/statsmodels/tsa/stattools.py:1488: FutureWarning: verbose is deprecated since functions should not print results\n",
            "  warnings.warn(\n"
          ]
        }
      ]
    },
    {
      "cell_type": "code",
      "source": [
        "# Show a heatmap that highlits just the elements in the matrix whose p_value is lower than 0.05, showing causality.\n",
        "sns.heatmap(p_val_matrix, cmap='Blues', annot=False, cbar=True, mask=p_val_matrix > 0.05)"
      ],
      "metadata": {
        "colab": {
          "base_uri": "https://localhost:8080/",
          "height": 447
        },
        "id": "YltFHfoL0Ttt",
        "outputId": "1e5f52aa-9bc5-4a84-a25c-2a42fbd0f46b"
      },
      "execution_count": null,
      "outputs": [
        {
          "output_type": "execute_result",
          "data": {
            "text/plain": [
              "<Axes: >"
            ]
          },
          "metadata": {},
          "execution_count": 50
        },
        {
          "output_type": "display_data",
          "data": {
            "text/plain": [
              "<Figure size 640x480 with 2 Axes>"
            ],
            "image/png": "[encoded data removed]"
          },
          "metadata": {}
        }
      ]
    },
    {
      "cell_type": "markdown",
      "source": [
        "After looking at the heatmap, we can see bicausality between EUR and Gold. Meaning the changes in EURUSD lead to changes on Gold prices and vice versa.\n",
        "\n",
        "We will choose these two assets to build the VAR model."
      ],
      "metadata": {
        "id": "gENq9O-x-1XF"
      }
    },
    {
      "cell_type": "markdown",
      "source": [
        "## 4. Building the VAR Model"
      ],
      "metadata": {
        "id": "ZoKFe38Ayv1z"
      }
    },
    {
      "cell_type": "code",
      "source": [
        "# Separate the columns of both assets into a new dataframe\n",
        "data = df[['EURUSD=X','GC=F']]\n",
        "var = VAR(data)"
      ],
      "metadata": {
        "id": "bJFX8H9hDgqk"
      },
      "execution_count": null,
      "outputs": []
    },
    {
      "cell_type": "markdown",
      "source": [
        "To select the number of lags to take into account for the model, we will compare the criterions for different models."
      ],
      "metadata": {
        "id": "y5oHo4P_zD0Q"
      }
    },
    {
      "cell_type": "code",
      "source": [
        "selector = var.select_order(15)\n",
        "selector.summary()"
      ],
      "metadata": {
        "colab": {
          "base_uri": "https://localhost:8080/",
          "height": 400
        },
        "id": "_IOPciAcDXft",
        "outputId": "85530373-fd59-44a4-bf5a-6cc6e6417df1"
      },
      "execution_count": null,
      "outputs": [
        {
          "output_type": "execute_result",
          "data": {
            "text/plain": [
              "<class 'statsmodels.iolib.table.SimpleTable'>"
            ],
            "text/html": [
              "<table class=\"simpletable\">\n",
              "<caption>VAR Order Selection (* highlights the minimums)</caption>\n",
              "<tr>\n",
              "   <td></td>      <th>AIC</th>         <th>BIC</th>         <th>FPE</th>        <th>HQIC</th>    \n",
              "</tr>\n",
              "<tr>\n",
              "  <th>0</th>  <td>    -17.01</td>  <td>    -16.99*</td> <td> 4.089e-08</td>  <td>    -17.00*</td>\n",
              "</tr>\n",
              "<tr>\n",
              "  <th>1</th>  <td>    -17.01</td>  <td>    -16.95</td>  <td> 4.096e-08</td>  <td>    -16.99</td> \n",
              "</tr>\n",
              "<tr>\n",
              "  <th>2</th>  <td>    -17.02</td>  <td>    -16.92</td>  <td> 4.057e-08</td>  <td>    -16.98</td> \n",
              "</tr>\n",
              "<tr>\n",
              "  <th>3</th>  <td>    -17.01</td>  <td>    -16.87</td>  <td> 4.089e-08</td>  <td>    -16.96</td> \n",
              "</tr>\n",
              "<tr>\n",
              "  <th>4</th>  <td>    -17.04*</td> <td>    -16.86</td>  <td> 3.994e-08*</td> <td>    -16.96</td> \n",
              "</tr>\n",
              "<tr>\n",
              "  <th>5</th>  <td>    -17.03</td>  <td>    -16.81</td>  <td> 4.032e-08</td>  <td>    -16.94</td> \n",
              "</tr>\n",
              "<tr>\n",
              "  <th>6</th>  <td>    -17.01</td>  <td>    -16.75</td>  <td> 4.108e-08</td>  <td>    -16.91</td> \n",
              "</tr>\n",
              "<tr>\n",
              "  <th>7</th>  <td>    -17.00</td>  <td>    -16.70</td>  <td> 4.158e-08</td>  <td>    -16.88</td> \n",
              "</tr>\n",
              "<tr>\n",
              "  <th>8</th>  <td>    -16.98</td>  <td>    -16.64</td>  <td> 4.237e-08</td>  <td>    -16.84</td> \n",
              "</tr>\n",
              "<tr>\n",
              "  <th>9</th>  <td>    -16.96</td>  <td>    -16.58</td>  <td> 4.300e-08</td>  <td>    -16.81</td> \n",
              "</tr>\n",
              "<tr>\n",
              "  <th>10</th> <td>    -16.94</td>  <td>    -16.53</td>  <td> 4.377e-08</td>  <td>    -16.78</td> \n",
              "</tr>\n",
              "<tr>\n",
              "  <th>11</th> <td>    -16.92</td>  <td>    -16.47</td>  <td> 4.464e-08</td>  <td>    -16.74</td> \n",
              "</tr>\n",
              "<tr>\n",
              "  <th>12</th> <td>    -16.92</td>  <td>    -16.42</td>  <td> 4.487e-08</td>  <td>    -16.72</td> \n",
              "</tr>\n",
              "<tr>\n",
              "  <th>13</th> <td>    -16.90</td>  <td>    -16.37</td>  <td> 4.557e-08</td>  <td>    -16.69</td> \n",
              "</tr>\n",
              "<tr>\n",
              "  <th>14</th> <td>    -16.89</td>  <td>    -16.31</td>  <td> 4.620e-08</td>  <td>    -16.66</td> \n",
              "</tr>\n",
              "<tr>\n",
              "  <th>15</th> <td>    -16.88</td>  <td>    -16.27</td>  <td> 4.660e-08</td>  <td>    -16.64</td> \n",
              "</tr>\n",
              "</table>"
            ],
            "text/latex": "\\begin{center}\n\\begin{tabular}{lcccc}\n\\toprule\n            & \\textbf{AIC} & \\textbf{BIC} & \\textbf{FPE} & \\textbf{HQIC}  \\\\\n\\midrule\n\\textbf{0}  &      -17.01  &     -16.99*  &   4.089e-08  &      -17.00*   \\\\\n\\textbf{1}  &      -17.01  &      -16.95  &   4.096e-08  &       -16.99   \\\\\n\\textbf{2}  &      -17.02  &      -16.92  &   4.057e-08  &       -16.98   \\\\\n\\textbf{3}  &      -17.01  &      -16.87  &   4.089e-08  &       -16.96   \\\\\n\\textbf{4}  &     -17.04*  &      -16.86  &  3.994e-08*  &       -16.96   \\\\\n\\textbf{5}  &      -17.03  &      -16.81  &   4.032e-08  &       -16.94   \\\\\n\\textbf{6}  &      -17.01  &      -16.75  &   4.108e-08  &       -16.91   \\\\\n\\textbf{7}  &      -17.00  &      -16.70  &   4.158e-08  &       -16.88   \\\\\n\\textbf{8}  &      -16.98  &      -16.64  &   4.237e-08  &       -16.84   \\\\\n\\textbf{9}  &      -16.96  &      -16.58  &   4.300e-08  &       -16.81   \\\\\n\\textbf{10} &      -16.94  &      -16.53  &   4.377e-08  &       -16.78   \\\\\n\\textbf{11} &      -16.92  &      -16.47  &   4.464e-08  &       -16.74   \\\\\n\\textbf{12} &      -16.92  &      -16.42  &   4.487e-08  &       -16.72   \\\\\n\\textbf{13} &      -16.90  &      -16.37  &   4.557e-08  &       -16.69   \\\\\n\\textbf{14} &      -16.89  &      -16.31  &   4.620e-08  &       -16.66   \\\\\n\\textbf{15} &      -16.88  &      -16.27  &   4.660e-08  &       -16.64   \\\\\n\\bottomrule\n\\end{tabular}\n%\\caption{VAR Order Selection (* highlights the minimums)}\n\\end{center}"
          },
          "metadata": {},
          "execution_count": 52
        }
      ]
    },
    {
      "cell_type": "markdown",
      "source": [
        "According to BIC and HQIC, we should train an VAR(1) model."
      ],
      "metadata": {
        "id": "05yHBWUizQAr"
      }
    },
    {
      "cell_type": "code",
      "source": [
        "# Training an VAR(1) model\n",
        "var1 = var.fit(1)\n",
        "var1.summary()"
      ],
      "metadata": {
        "colab": {
          "base_uri": "https://localhost:8080/"
        },
        "id": "_vVJ9ghx8Isv",
        "outputId": "3013c053-4a17-4baf-e812-fa58e8a20015"
      },
      "execution_count": null,
      "outputs": [
        {
          "output_type": "execute_result",
          "data": {
            "text/plain": [
              "  Summary of Regression Results   \n",
              "==================================\n",
              "Model:                         VAR\n",
              "Method:                        OLS\n",
              "Date:           Mon, 16, Oct, 2023\n",
              "Time:                     14:25:42\n",
              "--------------------------------------------------------------------\n",
              "No. of Equations:         2.00000    BIC:                   -16.8789\n",
              "Nobs:                     416.000    HQIC:                  -16.9140\n",
              "Log likelihood:           2348.35    FPE:                4.40900e-08\n",
              "AIC:                     -16.9370    Det(Omega_mle):     4.34609e-08\n",
              "--------------------------------------------------------------------\n",
              "Results for equation EURUSD=X\n",
              "==============================================================================\n",
              "                 coefficient       std. error           t-stat            prob\n",
              "------------------------------------------------------------------------------\n",
              "const              -0.000313         0.000543           -0.576           0.565\n",
              "L1.EURUSD=X        -0.075171         0.051941           -1.447           0.148\n",
              "L1.GC=F             0.046091         0.028665            1.608           0.108\n",
              "==============================================================================\n",
              "\n",
              "Results for equation GC=F\n",
              "==============================================================================\n",
              "                 coefficient       std. error           t-stat            prob\n",
              "------------------------------------------------------------------------------\n",
              "const               0.000950         0.000992            0.958           0.338\n",
              "L1.EURUSD=X        -0.084672         0.094792           -0.893           0.372\n",
              "L1.GC=F            -0.007576         0.052313           -0.145           0.885\n",
              "==============================================================================\n",
              "\n",
              "Correlation matrix of residuals\n",
              "            EURUSD=X      GC=F\n",
              "EURUSD=X    1.000000  0.355504\n",
              "GC=F        0.355504  1.000000\n",
              "\n"
            ]
          },
          "metadata": {},
          "execution_count": 53
        }
      ]
    },
    {
      "cell_type": "markdown",
      "source": [
        "The result suggest that the returns of the assets follow the equations:\n",
        "\n",
        "$$ \\begin{eqnarray} EUR_t &=& 0.031105 + 0.972605          EUR_{t-1}  + \\epsilon_{1,t}\\\\\n",
        "Gold_{t} &=& 32.050214   -20.356512 EUR_{t-1} + 0.994830  Gold_{t-1} + \\epsilon_{2,t}\\end{eqnarray}$$"
      ],
      "metadata": {
        "id": "rSSqH6N3FuZB"
      }
    },
    {
      "cell_type": "markdown",
      "source": [
        "## 5. Model Validation"
      ],
      "metadata": {
        "id": "SkkHph-O0O5c"
      }
    },
    {
      "cell_type": "markdown",
      "source": [
        "To validate the model, we need to check that the residuals are white noise, meaning there is no further variation in the residuals that could be explained with another model."
      ],
      "metadata": {
        "id": "GcqMV-r70SI7"
      }
    },
    {
      "cell_type": "code",
      "source": [
        "# Ploting acf of EUR to analyze autocorrelation\n",
        "plot_acf(var1.resid['EURUSD=X']);"
      ],
      "metadata": {
        "colab": {
          "base_uri": "https://localhost:8080/",
          "height": 452
        },
        "id": "q1DGGiiNGgM_",
        "outputId": "ac079498-111f-4ace-b16d-f06b7ce175a7"
      },
      "execution_count": null,
      "outputs": [
        {
          "output_type": "display_data",
          "data": {
            "text/plain": [
              "<Figure size 640x480 with 1 Axes>"
            ],
            "image/png": "[encoded data removed]"
          },
          "metadata": {}
        }
      ]
    },
    {
      "cell_type": "code",
      "source": [
        "# Ploting acf of GOLD to analyze autocorrelation\n",
        "plot_acf(var1.resid['GC=F']);"
      ],
      "metadata": {
        "colab": {
          "base_uri": "https://localhost:8080/",
          "height": 452
        },
        "id": "vD2qP-kRGi10",
        "outputId": "8e9083aa-183c-4bda-90d7-b00346fc49e8"
      },
      "execution_count": null,
      "outputs": [
        {
          "output_type": "display_data",
          "data": {
            "text/plain": [
              "<Figure size 640x480 with 1 Axes>"
            ],
            "image/png": "[encoded data removed]"
          },
          "metadata": {}
        }
      ]
    },
    {
      "cell_type": "markdown",
      "source": [
        "Both acf plots show that there are no significant values for autocorrelation for any lags. This confirms that the residuals at as white noise."
      ],
      "metadata": {
        "id": "zsdq-XYO1K1C"
      }
    },
    {
      "cell_type": "markdown",
      "source": [
        "To further validate the model, we can check the durbin watson value. This value should be close to 2.0 indicating, there is no Spurious regression taking place."
      ],
      "metadata": {
        "id": "8QTVT7MH1eRT"
      }
    },
    {
      "cell_type": "code",
      "source": [
        "durbin_watson(var1.resid['GC=F'])"
      ],
      "metadata": {
        "colab": {
          "base_uri": "https://localhost:8080/"
        },
        "id": "yGg050FcGtmt",
        "outputId": "0abf75cb-b9d1-4149-fbdb-70cc45f111ba"
      },
      "execution_count": null,
      "outputs": [
        {
          "output_type": "execute_result",
          "data": {
            "text/plain": [
              "1.9941021684512399"
            ]
          },
          "metadata": {},
          "execution_count": 56
        }
      ]
    },
    {
      "cell_type": "code",
      "source": [
        "durbin_watson(var1.resid['EURUSD=X'])"
      ],
      "metadata": {
        "colab": {
          "base_uri": "https://localhost:8080/"
        },
        "id": "nrPqEFsWG9TK",
        "outputId": "569f9cec-5626-4372-de7f-02e3722909fb"
      },
      "execution_count": null,
      "outputs": [
        {
          "output_type": "execute_result",
          "data": {
            "text/plain": [
              "1.9937009358612943"
            ]
          },
          "metadata": {},
          "execution_count": 57
        }
      ]
    },
    {
      "cell_type": "markdown",
      "source": [
        "Model does not appear to be spurious."
      ],
      "metadata": {
        "id": "7Q33gwzY1wC7"
      }
    },
    {
      "cell_type": "markdown",
      "source": [
        "Finally, we need to check that the residuals are stationary using the adfuller test."
      ],
      "metadata": {
        "id": "SZD3u9m914eM"
      }
    },
    {
      "cell_type": "code",
      "source": [
        "from statsmodels.tsa.stattools import adfuller\n",
        "# Deben ser estacionarios en media\n",
        "print(adfuller(var1.resid['GC=F'])[1])\n",
        "print(adfuller(var1.resid['EURUSD=X'])[1])"
      ],
      "metadata": {
        "colab": {
          "base_uri": "https://localhost:8080/"
        },
        "id": "e_M95yZ3HDUW",
        "outputId": "71897224-7c99-44a7-d886-cd11d4e25b39"
      },
      "execution_count": null,
      "outputs": [
        {
          "output_type": "stream",
          "name": "stdout",
          "text": [
            "2.069036484478509e-15\n",
            "1.223849805450622e-28\n"
          ]
        }
      ]
    },
    {
      "cell_type": "markdown",
      "source": [
        "As the p_values for the test suggest, the residuals are stationary. As a conclusion, the model is valid."
      ],
      "metadata": {
        "id": "AhDANda52CkC"
      }
    },
    {
      "cell_type": "markdown",
      "source": [
        "## 6. Testing the model"
      ],
      "metadata": {
        "id": "SgVFRgb3HguP"
      }
    },
    {
      "cell_type": "markdown",
      "source": [
        "We will use test the model, comparing the predictions of the last 20 weeks with the real data."
      ],
      "metadata": {
        "id": "3_3KE7Gc2OJA"
      }
    },
    {
      "cell_type": "code",
      "source": [
        "test = data.tail(20)"
      ],
      "metadata": {
        "id": "O8o18k5VIlQA"
      },
      "execution_count": null,
      "outputs": []
    },
    {
      "cell_type": "code",
      "source": [
        "for1 = var1.forecast(data.values,steps=20)\n",
        "for1.shape"
      ],
      "metadata": {
        "colab": {
          "base_uri": "https://localhost:8080/"
        },
        "id": "IR8BqtCwHT1g",
        "outputId": "d2a721c9-e6e5-4d69-f6e6-78b2c34a7511"
      },
      "execution_count": null,
      "outputs": [
        {
          "output_type": "execute_result",
          "data": {
            "text/plain": [
              "(20, 2)"
            ]
          },
          "metadata": {},
          "execution_count": 60
        }
      ]
    },
    {
      "cell_type": "code",
      "source": [
        "# Create a DF with the forecast values\n",
        "for1 = pd.DataFrame(for1)\n",
        "for1.columns = test.columns\n",
        "for1.index = test.index\n",
        "for1.head()"
      ],
      "metadata": {
        "colab": {
          "base_uri": "https://localhost:8080/",
          "height": 238
        },
        "id": "JkbgCcSrH7hd",
        "outputId": "d459c5ad-d954-4c7d-e369-9c4dbca6caa5"
      },
      "execution_count": null,
      "outputs": [
        {
          "output_type": "execute_result",
          "data": {
            "text/plain": [
              "            EURUSD=X      GC=F\n",
              "Date                          \n",
              "2022-08-21 -0.000112  0.000393\n",
              "2022-08-28 -0.000286  0.000956\n",
              "2022-09-04 -0.000247  0.000967\n",
              "2022-09-11 -0.000250  0.000963\n",
              "2022-09-18 -0.000250  0.000964"
            ],
            "text/html": [
              "\n",
              "  <div id=\"df-dafa83ab-6c80-468f-91cb-dd69317b3bcf\" class=\"colab-df-container\">\n",
              "    <div>\n",
              "<style scoped>\n",
              "    .dataframe tbody tr th:only-of-type {\n",
              "        vertical-align: middle;\n",
              "    }\n",
              "\n",
              "    .dataframe tbody tr th {\n",
              "        vertical-align: top;\n",
              "    }\n",
              "\n",
              "    .dataframe thead th {\n",
              "        text-align: right;\n",
              "    }\n",
              "</style>\n",
              "<table border=\"1\" class=\"dataframe\">\n",
              "  <thead>\n",
              "    <tr style=\"text-align: right;\">\n",
              "      <th></th>\n",
              "      <th>EURUSD=X</th>\n",
              "      <th>GC=F</th>\n",
              "    </tr>\n",
              "    <tr>\n",
              "      <th>Date</th>\n",
              "      <th></th>\n",
              "      <th></th>\n",
              "    </tr>\n",
              "  </thead>\n",
              "  <tbody>\n",
              "    <tr>\n",
              "      <th>2022-08-21</th>\n",
              "      <td>-0.000112</td>\n",
              "      <td>0.000393</td>\n",
              "    </tr>\n",
              "    <tr>\n",
              "      <th>2022-08-28</th>\n",
              "      <td>-0.000286</td>\n",
              "      <td>0.000956</td>\n",
              "    </tr>\n",
              "    <tr>\n",
              "      <th>2022-09-04</th>\n",
              "      <td>-0.000247</td>\n",
              "      <td>0.000967</td>\n",
              "    </tr>\n",
              "    <tr>\n",
              "      <th>2022-09-11</th>\n",
              "      <td>-0.000250</td>\n",
              "      <td>0.000963</td>\n",
              "    </tr>\n",
              "    <tr>\n",
              "      <th>2022-09-18</th>\n",
              "      <td>-0.000250</td>\n",
              "      <td>0.000964</td>\n",
              "    </tr>\n",
              "  </tbody>\n",
              "</table>\n",
              "</div>\n",
              "    <div class=\"colab-df-buttons\">\n",
              "\n",
              "  <div class=\"colab-df-container\">\n",
              "    <button class=\"colab-df-convert\" onclick=\"convertToInteractive('df-dafa83ab-6c80-468f-91cb-dd69317b3bcf')\"\n",
              "            title=\"Convert this dataframe to an interactive table.\"\n",
              "            style=\"display:none;\">\n",
              "\n",
              "  <svg xmlns=\"http://www.w3.org/2000/svg\" height=\"24px\" viewBox=\"0 -960 960 960\">\n",
              "    <path d=\"M120-120v-720h720v720H120Zm60-500h600v-160H180v160Zm220 220h160v-160H400v160Zm0 220h160v-160H400v160ZM180-400h160v-160H180v160Zm440 0h160v-160H620v160ZM180-180h160v-160H180v160Zm440 0h160v-160H620v160Z\"/>\n",
              "  </svg>\n",
              "    </button>\n",
              "\n",
              "  <style>\n",
              "    .colab-df-container {\n",
              "      display:flex;\n",
              "      gap: 12px;\n",
              "    }\n",
              "\n",
              "    .colab-df-convert {\n",
              "      background-color: #E8F0FE;\n",
              "      border: none;\n",
              "      border-radius: 50%;\n",
              "      cursor: pointer;\n",
              "      display: none;\n",
              "      fill: #1967D2;\n",
              "      height: 32px;\n",
              "      padding: 0 0 0 0;\n",
              "      width: 32px;\n",
              "    }\n",
              "\n",
              "    .colab-df-convert:hover {\n",
              "      background-color: #E2EBFA;\n",
              "      box-shadow: 0px 1px 2px rgba(60, 64, 67, 0.3), 0px 1px 3px 1px rgba(60, 64, 67, 0.15);\n",
              "      fill: #174EA6;\n",
              "    }\n",
              "\n",
              "    .colab-df-buttons div {\n",
              "      margin-bottom: 4px;\n",
              "    }\n",
              "\n",
              "    [theme=dark] .colab-df-convert {\n",
              "      background-color: #3B4455;\n",
              "      fill: #D2E3FC;\n",
              "    }\n",
              "\n",
              "    [theme=dark] .colab-df-convert:hover {\n",
              "      background-color: #434B5C;\n",
              "      box-shadow: 0px 1px 3px 1px rgba(0, 0, 0, 0.15);\n",
              "      filter: drop-shadow(0px 1px 2px rgba(0, 0, 0, 0.3));\n",
              "      fill: #FFFFFF;\n",
              "    }\n",
              "  </style>\n",
              "\n",
              "    <script>\n",
              "      const buttonEl =\n",
              "        document.querySelector('#df-dafa83ab-6c80-468f-91cb-dd69317b3bcf button.colab-df-convert');\n",
              "      buttonEl.style.display =\n",
              "        google.colab.kernel.accessAllowed ? 'block' : 'none';\n",
              "\n",
              "      async function convertToInteractive(key) {\n",
              "        const element = document.querySelector('#df-dafa83ab-6c80-468f-91cb-dd69317b3bcf');\n",
              "        const dataTable =\n",
              "          await google.colab.kernel.invokeFunction('convertToInteractive',\n",
              "                                                    [key], {});\n",
              "        if (!dataTable) return;\n",
              "\n",
              "        const docLinkHtml = 'Like what you see? Visit the ' +\n",
              "          '<a target=\"_blank\" href=https://colab.research.google.com/notebooks/data_table.ipynb>data table notebook</a>'\n",
              "          + ' to learn more about interactive tables.';\n",
              "        element.innerHTML = '';\n",
              "        dataTable['output_type'] = 'display_data';\n",
              "        await google.colab.output.renderOutput(dataTable, element);\n",
              "        const docLink = document.createElement('div');\n",
              "        docLink.innerHTML = docLinkHtml;\n",
              "        element.appendChild(docLink);\n",
              "      }\n",
              "    </script>\n",
              "  </div>\n",
              "\n",
              "\n",
              "<div id=\"df-0f2b0e89-a3c2-4df8-8ea0-40ee92a17229\">\n",
              "  <button class=\"colab-df-quickchart\" onclick=\"quickchart('df-0f2b0e89-a3c2-4df8-8ea0-40ee92a17229')\"\n",
              "            title=\"Suggest charts.\"\n",
              "            style=\"display:none;\">\n",
              "\n",
              "<svg xmlns=\"http://www.w3.org/2000/svg\" height=\"24px\"viewBox=\"0 0 24 24\"\n",
              "     width=\"24px\">\n",
              "    <g>\n",
              "        <path d=\"M19 3H5c-1.1 0-2 .9-2 2v14c0 1.1.9 2 2 2h14c1.1 0 2-.9 2-2V5c0-1.1-.9-2-2-2zM9 17H7v-7h2v7zm4 0h-2V7h2v10zm4 0h-2v-4h2v4z\"/>\n",
              "    </g>\n",
              "</svg>\n",
              "  </button>\n",
              "\n",
              "<style>\n",
              "  .colab-df-quickchart {\n",
              "      --bg-color: #E8F0FE;\n",
              "      --fill-color: #1967D2;\n",
              "      --hover-bg-color: #E2EBFA;\n",
              "      --hover-fill-color: #174EA6;\n",
              "      --disabled-fill-color: #AAA;\n",
              "      --disabled-bg-color: #DDD;\n",
              "  }\n",
              "\n",
              "  [theme=dark] .colab-df-quickchart {\n",
              "      --bg-color: #3B4455;\n",
              "      --fill-color: #D2E3FC;\n",
              "      --hover-bg-color: #434B5C;\n",
              "      --hover-fill-color: #FFFFFF;\n",
              "      --disabled-bg-color: #3B4455;\n",
              "      --disabled-fill-color: #666;\n",
              "  }\n",
              "\n",
              "  .colab-df-quickchart {\n",
              "    background-color: var(--bg-color);\n",
              "    border: none;\n",
              "    border-radius: 50%;\n",
              "    cursor: pointer;\n",
              "    display: none;\n",
              "    fill: var(--fill-color);\n",
              "    height: 32px;\n",
              "    padding: 0;\n",
              "    width: 32px;\n",
              "  }\n",
              "\n",
              "  .colab-df-quickchart:hover {\n",
              "    background-color: var(--hover-bg-color);\n",
              "    box-shadow: 0 1px 2px rgba(60, 64, 67, 0.3), 0 1px 3px 1px rgba(60, 64, 67, 0.15);\n",
              "    fill: var(--button-hover-fill-color);\n",
              "  }\n",
              "\n",
              "  .colab-df-quickchart-complete:disabled,\n",
              "  .colab-df-quickchart-complete:disabled:hover {\n",
              "    background-color: var(--disabled-bg-color);\n",
              "    fill: var(--disabled-fill-color);\n",
              "    box-shadow: none;\n",
              "  }\n",
              "\n",
              "  .colab-df-spinner {\n",
              "    border: 2px solid var(--fill-color);\n",
              "    border-color: transparent;\n",
              "    border-bottom-color: var(--fill-color);\n",
              "    animation:\n",
              "      spin 1s steps(1) infinite;\n",
              "  }\n",
              "\n",
              "  @keyframes spin {\n",
              "    0% {\n",
              "      border-color: transparent;\n",
              "      border-bottom-color: var(--fill-color);\n",
              "      border-left-color: var(--fill-color);\n",
              "    }\n",
              "    20% {\n",
              "      border-color: transparent;\n",
              "      border-left-color: var(--fill-color);\n",
              "      border-top-color: var(--fill-color);\n",
              "    }\n",
              "    30% {\n",
              "      border-color: transparent;\n",
              "      border-left-color: var(--fill-color);\n",
              "      border-top-color: var(--fill-color);\n",
              "      border-right-color: var(--fill-color);\n",
              "    }\n",
              "    40% {\n",
              "      border-color: transparent;\n",
              "      border-right-color: var(--fill-color);\n",
              "      border-top-color: var(--fill-color);\n",
              "    }\n",
              "    60% {\n",
              "      border-color: transparent;\n",
              "      border-right-color: var(--fill-color);\n",
              "    }\n",
              "    80% {\n",
              "      border-color: transparent;\n",
              "      border-right-color: var(--fill-color);\n",
              "      border-bottom-color: var(--fill-color);\n",
              "    }\n",
              "    90% {\n",
              "      border-color: transparent;\n",
              "      border-bottom-color: var(--fill-color);\n",
              "    }\n",
              "  }\n",
              "</style>\n",
              "\n",
              "  <script>\n",
              "    async function quickchart(key) {\n",
              "      const quickchartButtonEl =\n",
              "        document.querySelector('#' + key + ' button');\n",
              "      quickchartButtonEl.disabled = true;  // To prevent multiple clicks.\n",
              "      quickchartButtonEl.classList.add('colab-df-spinner');\n",
              "      try {\n",
              "        const charts = await google.colab.kernel.invokeFunction(\n",
              "            'suggestCharts', [key], {});\n",
              "      } catch (error) {\n",
              "        console.error('Error during call to suggestCharts:', error);\n",
              "      }\n",
              "      quickchartButtonEl.classList.remove('colab-df-spinner');\n",
              "      quickchartButtonEl.classList.add('colab-df-quickchart-complete');\n",
              "    }\n",
              "    (() => {\n",
              "      let quickchartButtonEl =\n",
              "        document.querySelector('#df-0f2b0e89-a3c2-4df8-8ea0-40ee92a17229 button');\n",
              "      quickchartButtonEl.style.display =\n",
              "        google.colab.kernel.accessAllowed ? 'block' : 'none';\n",
              "    })();\n",
              "  </script>\n",
              "</div>\n",
              "    </div>\n",
              "  </div>\n"
            ]
          },
          "metadata": {},
          "execution_count": 61
        }
      ]
    },
    {
      "cell_type": "code",
      "source": [
        "# Plot the result (forecast)\n",
        "plt.plot(test.index,test['GC=F'],label='Observed')\n",
        "plt.plot(test.index,for1['GC=F'],label='Forecast')\n",
        "plt.title('Forecast VAR(1)')\n",
        "plt.legend();"
      ],
      "metadata": {
        "colab": {
          "base_uri": "https://localhost:8080/",
          "height": 452
        },
        "id": "zIvFGrEmIQJp",
        "outputId": "75099a66-1fca-494b-d4c2-b4df0c0e54fb"
      },
      "execution_count": null,
      "outputs": [
        {
          "output_type": "display_data",
          "data": {
            "text/plain": [
              "<Figure size 640x480 with 1 Axes>"
            ],
            "image/png": "[encoded data removed]"
          },
          "metadata": {}
        }
      ]
    },
    {
      "cell_type": "markdown",
      "source": [
        "**Conclusion:** the model is valid and shows a moderate accuracy. Nonetheless, as it only uses one lag, it does nos adapt quickly to the tendency of the timeseries."
      ],
      "metadata": {
        "id": "o_ABZHiIJNY3"
      }
    }
  ]
}